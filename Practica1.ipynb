{
 "cells": [
  {
   "cell_type": "markdown",
   "metadata": {},
   "source": [
    "# PRACTICA 1"
   ]
  },
  {
   "cell_type": "code",
   "execution_count": 1,
   "metadata": {},
   "outputs": [
    {
     "name": "stderr",
     "output_type": "stream",
     "text": [
      "[nltk_data] Downloading package stopwords to\n",
      "[nltk_data]     /home/rubendv/nltk_data...\n",
      "[nltk_data]   Package stopwords is already up-to-date!\n"
     ]
    }
   ],
   "source": [
    "#Importamos lo que vamos a necesitar\n",
    "import nltk\n",
    "nltk.download('stopwords')\n",
    "from nltk.corpus import stopwords\n",
    "from nltk.tokenize import word_tokenize\n",
    "from nltk.tokenize import RegexpTokenizer\n",
    "import numpy as np    \n",
    "from numpy import dot\n",
    "from numpy.linalg import norm"
   ]
  },
  {
   "cell_type": "markdown",
   "metadata": {},
   "source": [
    "# Limpieza de Datos."
   ]
  },
  {
   "cell_type": "code",
   "execution_count": 2,
   "metadata": {},
   "outputs": [],
   "source": [
    "##leemos el archivo del que extraemos los tweets\n",
    "\n",
    "archivo = open(\"Tweet.txt\",\"r\",encoding=\"utf-8\")\n",
    "text_01 = []\n",
    "while(True):\n",
    "    linea = archivo.readline()\n",
    "    text_01.append(linea)\n",
    "    if not linea:\n",
    "        break"
   ]
  },
  {
   "cell_type": "code",
   "execution_count": 3,
   "metadata": {},
   "outputs": [],
   "source": [
    "#Funcion para remover saltos de linea y espacios del txt \n",
    "def removeSaltosLinea(vector):\n",
    "    while( \"\\n\" in vector ):\n",
    "        vector.remove(\"\\n\")\n",
    "    while( \"\" in vector ):\n",
    "        vector.remove(\"\")"
   ]
  },
  {
   "cell_type": "code",
   "execution_count": 4,
   "metadata": {},
   "outputs": [],
   "source": [
    "#Funcion para eliminar las stopwords\n",
    "def deleteStopWords(tweet):\n",
    "    tweetWoutSoptWords = []\n",
    "    for palabra in tweet:\n",
    "        \n",
    "        if palabra not in stopwords.words('spanish'):\n",
    "            tweetWoutSoptWords.append(palabra)\n",
    "    return tweetWoutSoptWords\n",
    "\n"
   ]
  },
  {
   "cell_type": "code",
   "execution_count": 5,
   "metadata": {},
   "outputs": [],
   "source": [
    "#Funcion para homogeneizar los tweets\n",
    "tokenizer = RegexpTokenizer(r'\\w+')\n",
    "def removeSignosPuntuacion(tweet):\n",
    "    return tokenizer.tokenize(tweet.lower())\n",
    "\n"
   ]
  },
  {
   "cell_type": "code",
   "execution_count": 6,
   "metadata": {},
   "outputs": [],
   "source": [
    "#depuramos el arreglo que leimos \n",
    "removeSaltosLinea(text_01)\n",
    "for i in range(len(text_01)):\n",
    "    text_01[i]= removeSignosPuntuacion(text_01[i])\n",
    "    text_01[i]=deleteStopWords(text_01[i])\n"
   ]
  },
  {
   "cell_type": "code",
   "execution_count": 7,
   "metadata": {},
   "outputs": [],
   "source": [
    "#impresion de los tweets en su forma vectorial y limpios\n",
    "#print(len(text_01[0]))\n",
    "#for elemento in text_01:\n",
    "#    print(elemento)\n",
    "\n",
    "\n"
   ]
  },
  {
   "cell_type": "markdown",
   "metadata": {},
   "source": [
    "# Creación de BoW."
   ]
  },
  {
   "cell_type": "code",
   "execution_count": 8,
   "metadata": {},
   "outputs": [],
   "source": [
    "#Creación de la BoW\n",
    "dicc_texts = {}\n",
    "texto = \"text \"\n",
    "\n",
    "for i in range(0,len(text_01)):\n",
    "    indice =  texto + str(i)\n",
    "    dicc_texts[indice] = text_01[i]\n",
    "\n",
    "#dicc_texts\n"
   ]
  },
  {
   "cell_type": "code",
   "execution_count": 9,
   "metadata": {},
   "outputs": [],
   "source": [
    "dicc_termns = {}\n",
    "\n",
    "for text in dicc_texts:\n",
    "    for word in dicc_texts[text]:\n",
    "        \n",
    "#        print(\"EVALUAR:\", word, \"EN\", text)\n",
    "        \n",
    "        if(word in dicc_termns):#incrementar palabras al diccionario\n",
    "            dicc_termns[word] = dicc_termns[word] + 1\n",
    "            \n",
    "#            print(word, \"IN\", \"dicc_termns\")\n",
    "            \n",
    "        elif(word not in dicc_termns):#agregar palabras al diccionario        \n",
    "            dicc_termns[word] = 1\n",
    "            \n",
    "#            print(word, \"NOT IN\", \"dicc_termns\")            \n",
    "\n",
    "#print(len(dicc_termns))\n",
    "#dicc_termns\n"
   ]
  },
  {
   "cell_type": "markdown",
   "metadata": {},
   "source": [
    "# Creación de Matriz Término Documento (binaria)"
   ]
  },
  {
   "cell_type": "code",
   "execution_count": 10,
   "metadata": {},
   "outputs": [],
   "source": [
    "#Creación de Matriz Término Documento(binaria)\n",
    "matrix = np.zeros((len(dicc_texts), len(dicc_termns))) # Pre-allocate matrix\n"
   ]
  },
  {
   "cell_type": "code",
   "execution_count": 11,
   "metadata": {},
   "outputs": [],
   "source": [
    "i = 0\n",
    "j = 0\n",
    "\n",
    "for word_termns in dicc_termns: #dicc_termns todos los términos\n",
    "#    print()\n",
    "    for word_texts in dicc_texts: #dicc_texts todos los textos\n",
    "#        print(\"EVALUAR:\", word_termns, \"EN: \", word_texts)\n",
    "        if(word_termns in dicc_texts[word_texts]): #si está\n",
    "            #print(word_termns, \"IN\", word_texts)\n",
    "            \n",
    "            matrix[j, i] = 1\n",
    "            \n",
    "        elif(word_termns not in dicc_texts[word_texts]): # si no está\n",
    "           # print(word_termns, \"NOT IN\", word_texts)\n",
    "            \n",
    "            matrix[j, i] = 0\n",
    "            \n",
    "            \n",
    "        #print(\"se agregó: \", matrix[j,i], \"en: \", j, i)\n",
    "            \n",
    "        j = j + 1\n",
    "        \n",
    "    j = 0\n",
    "    i = i + 1\n"
   ]
  },
  {
   "cell_type": "code",
   "execution_count": 12,
   "metadata": {},
   "outputs": [
    {
     "data": {
      "text/plain": [
       "array([[1., 1., 1., ..., 0., 0., 0.],\n",
       "       [0., 0., 0., ..., 0., 0., 0.],\n",
       "       [0., 0., 0., ..., 0., 0., 0.],\n",
       "       ...,\n",
       "       [0., 0., 0., ..., 0., 0., 0.],\n",
       "       [0., 0., 0., ..., 0., 0., 0.],\n",
       "       [0., 0., 0., ..., 1., 1., 1.]])"
      ]
     },
     "execution_count": 12,
     "metadata": {},
     "output_type": "execute_result"
    }
   ],
   "source": [
    "matrix"
   ]
  },
  {
   "cell_type": "code",
   "execution_count": 13,
   "metadata": {},
   "outputs": [
    {
     "data": {
      "text/plain": [
       "479"
      ]
     },
     "execution_count": 13,
     "metadata": {},
     "output_type": "execute_result"
    }
   ],
   "source": [
    "len(matrix[0])"
   ]
  },
  {
   "cell_type": "code",
   "execution_count": 14,
   "metadata": {
    "scrolled": true
   },
   "outputs": [
    {
     "data": {
      "text/plain": [
       "array([1., 1., 1., 1., 1., 1., 1., 1., 1., 1., 1., 1., 1., 1., 1., 1., 1.,\n",
       "       0., 0., 0., 0., 0., 0., 0., 0., 0., 0., 0., 0., 0., 0., 0., 0., 0.,\n",
       "       0., 0., 0., 0., 0., 0., 0., 0., 0., 0., 0., 0., 0., 0., 0., 0., 0.,\n",
       "       0., 0., 0., 0., 0., 0., 0., 0., 0., 0., 0., 0., 0., 0., 0., 0., 0.,\n",
       "       0., 0., 0., 0., 0., 0., 0., 0., 0., 0., 0., 0., 0., 0., 0., 0., 0.,\n",
       "       0., 0., 0., 0., 0., 0., 0., 0., 0., 0., 0., 0., 0., 0., 0., 0., 0.,\n",
       "       0., 0., 0., 0., 0., 0., 0., 0., 0., 0., 0., 0., 0., 0., 0., 0., 0.,\n",
       "       0., 0., 0., 0., 0., 0., 0., 0., 0., 0., 0., 0., 0., 0., 0., 0., 0.,\n",
       "       0., 0., 0., 0., 0., 0., 0., 0., 0., 0., 0., 0., 0., 0., 0., 0., 0.,\n",
       "       0., 0., 0., 0., 0., 0., 0., 0., 0., 0., 0., 0., 0., 0., 0., 0., 0.,\n",
       "       0., 0., 0., 0., 0., 0., 0., 0., 0., 0., 0., 0., 0., 0., 0., 0., 0.,\n",
       "       0., 0., 0., 0., 0., 0., 0., 0., 0., 0., 0., 0., 0., 0., 0., 0., 0.,\n",
       "       0., 0., 0., 0., 0., 0., 0., 0., 0., 0., 0., 0., 0., 0., 0., 0., 0.,\n",
       "       0., 0., 0., 0., 0., 0., 0., 0., 0., 0., 0., 0., 0., 0., 0., 0., 0.,\n",
       "       0., 0., 0., 0., 0., 0., 0., 0., 0., 0., 0., 0., 0., 0., 0., 0., 0.,\n",
       "       0., 0., 0., 0., 0., 0., 0., 0., 0., 0., 0., 0., 0., 0., 0., 0., 0.,\n",
       "       0., 0., 0., 0., 0., 0., 0., 0., 0., 0., 0., 0., 0., 0., 0., 0., 0.,\n",
       "       0., 0., 0., 0., 0., 0., 0., 0., 0., 0., 0., 0., 0., 0., 0., 0., 0.,\n",
       "       0., 0., 0., 0., 0., 0., 0., 0., 0., 0., 0., 0., 0., 0., 0., 0., 0.,\n",
       "       0., 0., 0., 0., 0., 0., 0., 0., 0., 0., 0., 0., 0., 0., 0., 0., 0.,\n",
       "       0., 0., 0., 0., 0., 0., 0., 0., 0., 0., 0., 0., 0., 0., 0., 0., 0.,\n",
       "       0., 0., 0., 0., 0., 0., 0., 0., 0., 0., 0., 0., 0., 0., 0., 0., 0.,\n",
       "       0., 0., 0., 0., 0., 0., 0., 0., 0., 0., 0., 0., 0., 0., 0., 0., 0.,\n",
       "       0., 0., 0., 0., 0., 0., 0., 0., 0., 0., 0., 0., 0., 0., 0., 0., 0.,\n",
       "       0., 0., 0., 0., 0., 0., 0., 0., 0., 0., 0., 0., 0., 0., 0., 0., 0.,\n",
       "       0., 0., 0., 0., 0., 0., 0., 0., 0., 0., 0., 0., 0., 0., 0., 0., 0.,\n",
       "       0., 0., 0., 0., 0., 0., 0., 0., 0., 0., 0., 0., 0., 0., 0., 0., 0.,\n",
       "       0., 0., 0., 0., 0., 0., 0., 0., 0., 0., 0., 0., 0., 0., 0., 0., 0.,\n",
       "       0., 0., 0.])"
      ]
     },
     "execution_count": 14,
     "metadata": {},
     "output_type": "execute_result"
    }
   ],
   "source": [
    "matrix[0]"
   ]
  },
  {
   "cell_type": "markdown",
   "metadata": {},
   "source": [
    "# Distancia Coseno de Matriz Término Documento (binaria)"
   ]
  },
  {
   "cell_type": "code",
   "execution_count": 15,
   "metadata": {},
   "outputs": [
    {
     "name": "stdout",
     "output_type": "stream",
     "text": [
      "Similaridad entre el vector 0 con el vector 0 es 1.0\n",
      "Similaridad entre el vector 0 con el vector 1 es 0.0\n",
      "Similaridad entre el vector 0 con el vector 2 es 0.0\n",
      "Similaridad entre el vector 0 con el vector 3 es 0.05292561240249631\n",
      "Similaridad entre el vector 0 con el vector 4 es 0.0\n",
      "Similaridad entre el vector 0 con el vector 5 es 0.0\n",
      "Similaridad entre el vector 0 con el vector 6 es 0.0\n",
      "Similaridad entre el vector 0 con el vector 7 es 0.0\n",
      "Similaridad entre el vector 0 con el vector 8 es 0.0\n",
      "Similaridad entre el vector 0 con el vector 9 es 0.051708768999501914\n",
      "Similaridad entre el vector 0 con el vector 10 es 0.0\n",
      "Similaridad entre el vector 0 con el vector 11 es 0.0\n",
      "Similaridad entre el vector 0 con el vector 12 es 0.0\n",
      "Similaridad entre el vector 0 con el vector 13 es 0.0\n",
      "Similaridad entre el vector 0 con el vector 14 es 0.0\n",
      "Similaridad entre el vector 0 con el vector 15 es 0.05057217374241737\n",
      "Similaridad entre el vector 0 con el vector 16 es 0.0\n",
      "Similaridad entre el vector 0 con el vector 17 es 0.0\n",
      "Similaridad entre el vector 0 con el vector 18 es 0.0\n",
      "Similaridad entre el vector 0 con el vector 19 es 0.048507125007266595\n",
      "Similaridad entre el vector 0 con el vector 20 es 0.03787770095392851\n",
      "Similaridad entre el vector 0 con el vector 21 es 0.0\n",
      "Similaridad entre el vector 0 con el vector 22 es 0.0\n",
      "Similaridad entre el vector 0 con el vector 23 es 0.0\n",
      "Similaridad entre el vector 0 con el vector 24 es 0.0\n",
      "Similaridad entre el vector 1 con el vector 0 es 0.0\n",
      "Similaridad entre el vector 1 con el vector 1 es 0.9999999999999998\n",
      "Similaridad entre el vector 1 con el vector 2 es 0.0\n",
      "Similaridad entre el vector 1 con el vector 3 es 0.0\n",
      "Similaridad entre el vector 1 con el vector 4 es 0.0\n",
      "Similaridad entre el vector 1 con el vector 5 es 0.0\n",
      "Similaridad entre el vector 1 con el vector 6 es 0.04662524041201569\n",
      "Similaridad entre el vector 1 con el vector 7 es 0.0\n",
      "Similaridad entre el vector 1 con el vector 8 es 0.062017367294604234\n",
      "Similaridad entre el vector 1 con el vector 9 es 0.0\n",
      "Similaridad entre el vector 1 con el vector 10 es 0.0\n",
      "Similaridad entre el vector 1 con el vector 11 es 0.0\n",
      "Similaridad entre el vector 1 con el vector 12 es 0.0\n",
      "Similaridad entre el vector 1 con el vector 13 es 0.0\n",
      "Similaridad entre el vector 1 con el vector 14 es 0.0\n",
      "Similaridad entre el vector 1 con el vector 15 es 0.0\n",
      "Similaridad entre el vector 1 con el vector 16 es 0.0\n",
      "Similaridad entre el vector 1 con el vector 17 es 0.0\n",
      "Similaridad entre el vector 1 con el vector 18 es 0.0\n",
      "Similaridad entre el vector 1 con el vector 19 es 0.0\n",
      "Similaridad entre el vector 1 con el vector 20 es 0.0\n",
      "Similaridad entre el vector 1 con el vector 21 es 0.0\n",
      "Similaridad entre el vector 1 con el vector 22 es 0.0\n",
      "Similaridad entre el vector 1 con el vector 23 es 0.0\n",
      "Similaridad entre el vector 1 con el vector 24 es 0.0\n",
      "Similaridad entre el vector 2 con el vector 0 es 0.0\n",
      "Similaridad entre el vector 2 con el vector 1 es 0.0\n",
      "Similaridad entre el vector 2 con el vector 2 es 1.0000000000000002\n",
      "Similaridad entre el vector 2 con el vector 3 es 0.0\n",
      "Similaridad entre el vector 2 con el vector 4 es 0.049147318718299055\n",
      "Similaridad entre el vector 2 con el vector 5 es 0.0\n",
      "Similaridad entre el vector 2 con el vector 6 es 0.0\n",
      "Similaridad entre el vector 2 con el vector 7 es 0.04170288281141495\n",
      "Similaridad entre el vector 2 con el vector 8 es 0.0\n",
      "Similaridad entre el vector 2 con el vector 9 es 0.0\n",
      "Similaridad entre el vector 2 con el vector 10 es 0.0\n",
      "Similaridad entre el vector 2 con el vector 11 es 0.0\n",
      "Similaridad entre el vector 2 con el vector 12 es 0.04347826086956522\n",
      "Similaridad entre el vector 2 con el vector 13 es 0.0\n",
      "Similaridad entre el vector 2 con el vector 14 es 0.0\n",
      "Similaridad entre el vector 2 con el vector 15 es 0.0\n",
      "Similaridad entre el vector 2 con el vector 16 es 0.05572782125753529\n",
      "Similaridad entre el vector 2 con el vector 17 es 0.0\n",
      "Similaridad entre el vector 2 con el vector 18 es 0.0\n",
      "Similaridad entre el vector 2 con el vector 19 es 0.0\n",
      "Similaridad entre el vector 2 con el vector 20 es 0.0\n",
      "Similaridad entre el vector 2 con el vector 21 es 0.0\n",
      "Similaridad entre el vector 2 con el vector 22 es 0.0\n",
      "Similaridad entre el vector 2 con el vector 23 es 0.04550157551932901\n",
      "Similaridad entre el vector 2 con el vector 24 es 0.042562826537937436\n"
     ]
    }
   ],
   "source": [
    "for i in range(0, len(matrix[:3])):# Mostramos solo los primeros 3 vectores contra los demás\n",
    "    for j in range(0,len(matrix)):\n",
    "        bin_cos_ti_tj = dot(matrix[i],matrix[j])/(norm(matrix[i])*norm(matrix[j]))\n",
    "        print(\"Similaridad entre el vector \"+str(i)+\" con el vector \"+str(j)+\" es \"+ str(bin_cos_ti_tj))"
   ]
  },
  {
   "cell_type": "markdown",
   "metadata": {},
   "source": [
    "# Distancia Euclidiana de Matriz Término Documento (binaria)"
   ]
  },
  {
   "cell_type": "code",
   "execution_count": 16,
   "metadata": {},
   "outputs": [
    {
     "name": "stdout",
     "output_type": "stream",
     "text": [
      "Distancia entre el vector 0 con el vector 0 es 4.123105625617661\n",
      "Distancia entre el vector 0 con el vector 1 es 0.0\n",
      "Distancia entre el vector 0 con el vector 2 es 0.0\n",
      "Distancia entre el vector 0 con el vector 3 es 1.0\n",
      "Distancia entre el vector 0 con el vector 4 es 0.0\n",
      "Distancia entre el vector 0 con el vector 5 es 0.0\n",
      "Distancia entre el vector 0 con el vector 6 es 0.0\n",
      "Distancia entre el vector 0 con el vector 7 es 0.0\n",
      "Distancia entre el vector 0 con el vector 8 es 0.0\n",
      "Distancia entre el vector 0 con el vector 9 es 1.0\n",
      "Distancia entre el vector 0 con el vector 10 es 0.0\n",
      "Distancia entre el vector 0 con el vector 11 es 0.0\n",
      "Distancia entre el vector 0 con el vector 12 es 0.0\n",
      "Distancia entre el vector 0 con el vector 13 es 0.0\n",
      "Distancia entre el vector 0 con el vector 14 es 0.0\n",
      "Distancia entre el vector 0 con el vector 15 es 1.0\n",
      "Distancia entre el vector 0 con el vector 16 es 0.0\n",
      "Distancia entre el vector 0 con el vector 17 es 0.0\n",
      "Distancia entre el vector 0 con el vector 18 es 0.0\n",
      "Distancia entre el vector 0 con el vector 19 es 1.0\n",
      "Distancia entre el vector 0 con el vector 20 es 1.0\n",
      "Distancia entre el vector 0 con el vector 21 es 0.0\n",
      "Distancia entre el vector 0 con el vector 22 es 0.0\n",
      "Distancia entre el vector 0 con el vector 23 es 0.0\n",
      "Distancia entre el vector 0 con el vector 24 es 0.0\n",
      "Distancia entre el vector 1 con el vector 0 es 0.0\n",
      "Distancia entre el vector 1 con el vector 1 es 4.47213595499958\n",
      "Distancia entre el vector 1 con el vector 2 es 0.0\n",
      "Distancia entre el vector 1 con el vector 3 es 0.0\n",
      "Distancia entre el vector 1 con el vector 4 es 0.0\n",
      "Distancia entre el vector 1 con el vector 5 es 0.0\n",
      "Distancia entre el vector 1 con el vector 6 es 1.0\n",
      "Distancia entre el vector 1 con el vector 7 es 0.0\n",
      "Distancia entre el vector 1 con el vector 8 es 1.0\n",
      "Distancia entre el vector 1 con el vector 9 es 0.0\n",
      "Distancia entre el vector 1 con el vector 10 es 0.0\n",
      "Distancia entre el vector 1 con el vector 11 es 0.0\n",
      "Distancia entre el vector 1 con el vector 12 es 0.0\n",
      "Distancia entre el vector 1 con el vector 13 es 0.0\n",
      "Distancia entre el vector 1 con el vector 14 es 0.0\n",
      "Distancia entre el vector 1 con el vector 15 es 0.0\n",
      "Distancia entre el vector 1 con el vector 16 es 0.0\n",
      "Distancia entre el vector 1 con el vector 17 es 0.0\n",
      "Distancia entre el vector 1 con el vector 18 es 0.0\n",
      "Distancia entre el vector 1 con el vector 19 es 0.0\n",
      "Distancia entre el vector 1 con el vector 20 es 0.0\n",
      "Distancia entre el vector 1 con el vector 21 es 0.0\n",
      "Distancia entre el vector 1 con el vector 22 es 0.0\n",
      "Distancia entre el vector 1 con el vector 23 es 0.0\n",
      "Distancia entre el vector 1 con el vector 24 es 0.0\n",
      "Distancia entre el vector 2 con el vector 0 es 0.0\n",
      "Distancia entre el vector 2 con el vector 1 es 0.0\n",
      "Distancia entre el vector 2 con el vector 2 es 4.795831523312719\n",
      "Distancia entre el vector 2 con el vector 3 es 0.0\n",
      "Distancia entre el vector 2 con el vector 4 es 1.0\n",
      "Distancia entre el vector 2 con el vector 5 es 0.0\n",
      "Distancia entre el vector 2 con el vector 6 es 0.0\n",
      "Distancia entre el vector 2 con el vector 7 es 1.0\n",
      "Distancia entre el vector 2 con el vector 8 es 0.0\n",
      "Distancia entre el vector 2 con el vector 9 es 0.0\n",
      "Distancia entre el vector 2 con el vector 10 es 0.0\n",
      "Distancia entre el vector 2 con el vector 11 es 0.0\n",
      "Distancia entre el vector 2 con el vector 12 es 1.0\n",
      "Distancia entre el vector 2 con el vector 13 es 0.0\n",
      "Distancia entre el vector 2 con el vector 14 es 0.0\n",
      "Distancia entre el vector 2 con el vector 15 es 0.0\n",
      "Distancia entre el vector 2 con el vector 16 es 1.0\n",
      "Distancia entre el vector 2 con el vector 17 es 0.0\n",
      "Distancia entre el vector 2 con el vector 18 es 0.0\n",
      "Distancia entre el vector 2 con el vector 19 es 0.0\n",
      "Distancia entre el vector 2 con el vector 20 es 0.0\n",
      "Distancia entre el vector 2 con el vector 21 es 0.0\n",
      "Distancia entre el vector 2 con el vector 22 es 0.0\n",
      "Distancia entre el vector 2 con el vector 23 es 1.0\n",
      "Distancia entre el vector 2 con el vector 24 es 1.0\n"
     ]
    }
   ],
   "source": [
    "for i in range(0, len(matrix[:3])):# Mostramos solo los primeros 3 vectores contra los demás\n",
    "    for j in range(0,len(matrix)):\n",
    "        bin_euc_ti_tj = np.sqrt(dot(matrix[i],matrix[j]))\n",
    "        print(\"Distancia entre el vector \"+str(i)+\" con el vector \"+str(j)+\" es \"+ str(bin_euc_ti_tj))"
   ]
  },
  {
   "cell_type": "markdown",
   "metadata": {},
   "source": [
    "# Matriz Término Documento (frecuencia) "
   ]
  },
  {
   "cell_type": "code",
   "execution_count": 17,
   "metadata": {},
   "outputs": [],
   "source": [
    "matrix = np.zeros((len(dicc_texts), len(dicc_termns))) # Pre-allocate matrix\n",
    "#matrix"
   ]
  },
  {
   "cell_type": "code",
   "execution_count": 18,
   "metadata": {},
   "outputs": [],
   "source": [
    "i = 0\n",
    "j = 0\n",
    "\n",
    "for word_termns in dicc_termns: #dicc_termns todos los términos\n",
    "#    print()\n",
    "    for word_texts in dicc_texts: #dicc_texts todos los textos\n",
    "#        print(\"EVALUAR:\", word_termns, \"EN: \", word_texts)\n",
    "        if(word_termns in dicc_texts[word_texts]): #si está\n",
    "            #print(word_termns, \"IN\", word_texts)\n",
    "            \n",
    "            matrix[j, i] = dicc_termns[word_termns]\n",
    "            \n",
    "        elif(word_termns not in dicc_texts[word_texts]): # si no está\n",
    "            #print(word_termns, \"NOT IN\", word_texts)\n",
    "            \n",
    "            matrix[j, i] = 0\n",
    "            \n",
    "            \n",
    "       # print(\"se agregó: \", matrix[j,i], \"en: \", j, i)\n",
    "            \n",
    "        j = j + 1\n",
    "        \n",
    "    j = 0\n",
    "    i = i + 1"
   ]
  },
  {
   "cell_type": "code",
   "execution_count": 19,
   "metadata": {},
   "outputs": [
    {
     "data": {
      "text/plain": [
       "array([[1., 1., 1., ..., 0., 0., 0.],\n",
       "       [0., 0., 0., ..., 0., 0., 0.],\n",
       "       [0., 0., 0., ..., 0., 0., 0.],\n",
       "       ...,\n",
       "       [0., 0., 0., ..., 0., 0., 0.],\n",
       "       [0., 0., 0., ..., 0., 0., 0.],\n",
       "       [0., 0., 0., ..., 1., 1., 1.]])"
      ]
     },
     "execution_count": 19,
     "metadata": {},
     "output_type": "execute_result"
    }
   ],
   "source": [
    "matrix"
   ]
  },
  {
   "cell_type": "markdown",
   "metadata": {},
   "source": [
    "# Distancia Coseno de Matriz Término Documento (frecuencia)"
   ]
  },
  {
   "cell_type": "code",
   "execution_count": 20,
   "metadata": {},
   "outputs": [
    {
     "name": "stdout",
     "output_type": "stream",
     "text": [
      "Similaridad entre el vector 0 con el vector 0 es 1.0000000000000002\n",
      "Similaridad entre el vector 0 con el vector 1 es 0.0\n",
      "Similaridad entre el vector 0 con el vector 2 es 0.0\n",
      "Similaridad entre el vector 0 con el vector 3 es 0.20518233866439897\n",
      "Similaridad entre el vector 0 con el vector 4 es 0.0\n",
      "Similaridad entre el vector 0 con el vector 5 es 0.0\n",
      "Similaridad entre el vector 0 con el vector 6 es 0.0\n",
      "Similaridad entre el vector 0 con el vector 7 es 0.0\n",
      "Similaridad entre el vector 0 con el vector 8 es 0.0\n",
      "Similaridad entre el vector 0 con el vector 9 es 0.19258222162991084\n",
      "Similaridad entre el vector 0 con el vector 10 es 0.0\n",
      "Similaridad entre el vector 0 con el vector 11 es 0.0\n",
      "Similaridad entre el vector 0 con el vector 12 es 0.0\n",
      "Similaridad entre el vector 0 con el vector 13 es 0.0\n",
      "Similaridad entre el vector 0 con el vector 14 es 0.0\n",
      "Similaridad entre el vector 0 con el vector 15 es 0.21404317236952233\n",
      "Similaridad entre el vector 0 con el vector 16 es 0.0\n",
      "Similaridad entre el vector 0 con el vector 17 es 0.0\n",
      "Similaridad entre el vector 0 con el vector 18 es 0.0\n",
      "Similaridad entre el vector 0 con el vector 19 es 0.13699407724829618\n",
      "Similaridad entre el vector 0 con el vector 20 es 0.14708710135363806\n",
      "Similaridad entre el vector 0 con el vector 21 es 0.0\n",
      "Similaridad entre el vector 0 con el vector 22 es 0.0\n",
      "Similaridad entre el vector 0 con el vector 23 es 0.0\n",
      "Similaridad entre el vector 0 con el vector 24 es 0.0\n",
      "Similaridad entre el vector 1 con el vector 0 es 0.0\n",
      "Similaridad entre el vector 1 con el vector 1 es 1.0000000000000002\n",
      "Similaridad entre el vector 1 con el vector 2 es 0.0\n",
      "Similaridad entre el vector 1 con el vector 3 es 0.0\n",
      "Similaridad entre el vector 1 con el vector 4 es 0.0\n",
      "Similaridad entre el vector 1 con el vector 5 es 0.0\n",
      "Similaridad entre el vector 1 con el vector 6 es 0.12403473458920847\n",
      "Similaridad entre el vector 1 con el vector 7 es 0.0\n",
      "Similaridad entre el vector 1 con el vector 8 es 0.16724840200141816\n",
      "Similaridad entre el vector 1 con el vector 9 es 0.0\n",
      "Similaridad entre el vector 1 con el vector 10 es 0.0\n",
      "Similaridad entre el vector 1 con el vector 11 es 0.0\n",
      "Similaridad entre el vector 1 con el vector 12 es 0.0\n",
      "Similaridad entre el vector 1 con el vector 13 es 0.0\n",
      "Similaridad entre el vector 1 con el vector 14 es 0.0\n",
      "Similaridad entre el vector 1 con el vector 15 es 0.0\n",
      "Similaridad entre el vector 1 con el vector 16 es 0.0\n",
      "Similaridad entre el vector 1 con el vector 17 es 0.0\n",
      "Similaridad entre el vector 1 con el vector 18 es 0.0\n",
      "Similaridad entre el vector 1 con el vector 19 es 0.0\n",
      "Similaridad entre el vector 1 con el vector 20 es 0.0\n",
      "Similaridad entre el vector 1 con el vector 21 es 0.0\n",
      "Similaridad entre el vector 1 con el vector 22 es 0.0\n",
      "Similaridad entre el vector 1 con el vector 23 es 0.0\n",
      "Similaridad entre el vector 1 con el vector 24 es 0.0\n",
      "Similaridad entre el vector 2 con el vector 0 es 0.0\n",
      "Similaridad entre el vector 2 con el vector 1 es 0.0\n",
      "Similaridad entre el vector 2 con el vector 2 es 1.0\n",
      "Similaridad entre el vector 2 con el vector 3 es 0.0\n",
      "Similaridad entre el vector 2 con el vector 4 es 0.11215443081840887\n",
      "Similaridad entre el vector 2 con el vector 5 es 0.0\n",
      "Similaridad entre el vector 2 con el vector 6 es 0.0\n",
      "Similaridad entre el vector 2 con el vector 7 es 0.0747696205456059\n",
      "Similaridad entre el vector 2 con el vector 8 es 0.0\n",
      "Similaridad entre el vector 2 con el vector 9 es 0.0\n",
      "Similaridad entre el vector 2 con el vector 10 es 0.0\n",
      "Similaridad entre el vector 2 con el vector 11 es 0.0\n",
      "Similaridad entre el vector 2 con el vector 12 es 0.26268364132124744\n",
      "Similaridad entre el vector 2 con el vector 13 es 0.0\n",
      "Similaridad entre el vector 2 con el vector 14 es 0.0\n",
      "Similaridad entre el vector 2 con el vector 15 es 0.0\n",
      "Similaridad entre el vector 2 con el vector 16 es 0.12285902336679023\n",
      "Similaridad entre el vector 2 con el vector 17 es 0.0\n",
      "Similaridad entre el vector 2 con el vector 18 es 0.0\n",
      "Similaridad entre el vector 2 con el vector 19 es 0.0\n",
      "Similaridad entre el vector 2 con el vector 20 es 0.0\n",
      "Similaridad entre el vector 2 con el vector 21 es 0.0\n",
      "Similaridad entre el vector 2 con el vector 22 es 0.0\n",
      "Similaridad entre el vector 2 con el vector 23 es 0.27911694506082074\n",
      "Similaridad entre el vector 2 con el vector 24 es 0.3172206342872577\n"
     ]
    }
   ],
   "source": [
    "for i in range(0, len(matrix[:3])):# Mostramos solo los primeros 3 vectores contra los demás\n",
    "    for j in range(0,len(matrix)):\n",
    "        bin_cos_ti_tj = dot(matrix[i],matrix[j])/(norm(matrix[i])*norm(matrix[j]))\n",
    "        print(\"Similaridad entre el vector \"+str(i)+\" con el vector \"+str(j)+\" es \"+ str(bin_cos_ti_tj))"
   ]
  },
  {
   "cell_type": "markdown",
   "metadata": {},
   "source": [
    "# Distancia Euclidiana de Matriz Término Documento (frecuencia)"
   ]
  },
  {
   "cell_type": "code",
   "execution_count": 21,
   "metadata": {},
   "outputs": [
    {
     "name": "stdout",
     "output_type": "stream",
     "text": [
      "Distancia entre el vector 0 con el vector 0 es 7.211102550927978\n",
      "Distancia entre el vector 0 con el vector 1 es 0.0\n",
      "Distancia entre el vector 0 con el vector 2 es 0.0\n",
      "Distancia entre el vector 0 con el vector 3 es 3.0\n",
      "Distancia entre el vector 0 con el vector 4 es 0.0\n",
      "Distancia entre el vector 0 con el vector 5 es 0.0\n",
      "Distancia entre el vector 0 con el vector 6 es 0.0\n",
      "Distancia entre el vector 0 con el vector 7 es 0.0\n",
      "Distancia entre el vector 0 con el vector 8 es 0.0\n",
      "Distancia entre el vector 0 con el vector 9 es 3.0\n",
      "Distancia entre el vector 0 con el vector 10 es 0.0\n",
      "Distancia entre el vector 0 con el vector 11 es 0.0\n",
      "Distancia entre el vector 0 con el vector 12 es 0.0\n",
      "Distancia entre el vector 0 con el vector 13 es 0.0\n",
      "Distancia entre el vector 0 con el vector 14 es 0.0\n",
      "Distancia entre el vector 0 con el vector 15 es 3.0\n",
      "Distancia entre el vector 0 con el vector 16 es 0.0\n",
      "Distancia entre el vector 0 con el vector 17 es 0.0\n",
      "Distancia entre el vector 0 con el vector 18 es 0.0\n",
      "Distancia entre el vector 0 con el vector 19 es 3.0\n",
      "Distancia entre el vector 0 con el vector 20 es 3.0\n",
      "Distancia entre el vector 0 con el vector 21 es 0.0\n",
      "Distancia entre el vector 0 con el vector 22 es 0.0\n",
      "Distancia entre el vector 0 con el vector 23 es 0.0\n",
      "Distancia entre el vector 0 con el vector 24 es 0.0\n",
      "Distancia entre el vector 1 con el vector 0 es 0.0\n",
      "Distancia entre el vector 1 con el vector 1 es 5.0990195135927845\n",
      "Distancia entre el vector 1 con el vector 2 es 0.0\n",
      "Distancia entre el vector 1 con el vector 3 es 0.0\n",
      "Distancia entre el vector 1 con el vector 4 es 0.0\n",
      "Distancia entre el vector 1 con el vector 5 es 0.0\n",
      "Distancia entre el vector 1 con el vector 6 es 2.0\n",
      "Distancia entre el vector 1 con el vector 7 es 0.0\n",
      "Distancia entre el vector 1 con el vector 8 es 2.0\n",
      "Distancia entre el vector 1 con el vector 9 es 0.0\n",
      "Distancia entre el vector 1 con el vector 10 es 0.0\n",
      "Distancia entre el vector 1 con el vector 11 es 0.0\n",
      "Distancia entre el vector 1 con el vector 12 es 0.0\n",
      "Distancia entre el vector 1 con el vector 13 es 0.0\n",
      "Distancia entre el vector 1 con el vector 14 es 0.0\n",
      "Distancia entre el vector 1 con el vector 15 es 0.0\n",
      "Distancia entre el vector 1 con el vector 16 es 0.0\n",
      "Distancia entre el vector 1 con el vector 17 es 0.0\n",
      "Distancia entre el vector 1 con el vector 18 es 0.0\n",
      "Distancia entre el vector 1 con el vector 19 es 0.0\n",
      "Distancia entre el vector 1 con el vector 20 es 0.0\n",
      "Distancia entre el vector 1 con el vector 21 es 0.0\n",
      "Distancia entre el vector 1 con el vector 22 es 0.0\n",
      "Distancia entre el vector 1 con el vector 23 es 0.0\n",
      "Distancia entre el vector 1 con el vector 24 es 0.0\n",
      "Distancia entre el vector 2 con el vector 0 es 0.0\n",
      "Distancia entre el vector 2 con el vector 1 es 0.0\n",
      "Distancia entre el vector 2 con el vector 2 es 7.280109889280518\n",
      "Distancia entre el vector 2 con el vector 3 es 0.0\n",
      "Distancia entre el vector 2 con el vector 4 es 2.0\n",
      "Distancia entre el vector 2 con el vector 5 es 0.0\n",
      "Distancia entre el vector 2 con el vector 6 es 0.0\n",
      "Distancia entre el vector 2 con el vector 7 es 2.0\n",
      "Distancia entre el vector 2 con el vector 8 es 0.0\n",
      "Distancia entre el vector 2 con el vector 9 es 0.0\n",
      "Distancia entre el vector 2 con el vector 10 es 0.0\n",
      "Distancia entre el vector 2 con el vector 11 es 0.0\n",
      "Distancia entre el vector 2 con el vector 12 es 4.0\n",
      "Distancia entre el vector 2 con el vector 13 es 0.0\n",
      "Distancia entre el vector 2 con el vector 14 es 0.0\n",
      "Distancia entre el vector 2 con el vector 15 es 0.0\n",
      "Distancia entre el vector 2 con el vector 16 es 2.0\n",
      "Distancia entre el vector 2 con el vector 17 es 0.0\n",
      "Distancia entre el vector 2 con el vector 18 es 0.0\n",
      "Distancia entre el vector 2 con el vector 19 es 0.0\n",
      "Distancia entre el vector 2 con el vector 20 es 0.0\n",
      "Distancia entre el vector 2 con el vector 21 es 0.0\n",
      "Distancia entre el vector 2 con el vector 22 es 0.0\n",
      "Distancia entre el vector 2 con el vector 23 es 4.0\n",
      "Distancia entre el vector 2 con el vector 24 es 4.0\n"
     ]
    }
   ],
   "source": [
    "for i in range(0, len(matrix[:3])): # Mostramos solo los primeros 3 vectores contra los demás\n",
    "    for j in range(0,len(matrix)):\n",
    "        bin_euc_ti_tj = np.sqrt(dot(matrix[i],matrix[j]))\n",
    "        print(\"Distancia entre el vector \"+str(i)+\" con el vector \"+str(j)+\" es \"+ str(bin_euc_ti_tj))"
   ]
  }
 ],
 "metadata": {
  "kernelspec": {
   "display_name": "Python 3",
   "language": "python",
   "name": "python3"
  },
  "language_info": {
   "codemirror_mode": {
    "name": "ipython",
    "version": 3
   },
   "file_extension": ".py",
   "mimetype": "text/x-python",
   "name": "python",
   "nbconvert_exporter": "python",
   "pygments_lexer": "ipython3",
   "version": "3.7.4"
  }
 },
 "nbformat": 4,
 "nbformat_minor": 2
}
