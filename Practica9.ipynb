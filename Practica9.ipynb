{
 "cells": [
  {
   "cell_type": "code",
   "execution_count": 1,
   "metadata": {},
   "outputs": [],
   "source": [
    "import pandas as pd\n",
    "import numpy as np\n",
    "from mlxtend.frequent_patterns import apriori, association_rules\n",
    "import matplotlib.pyplot as plt\n",
    "import missingno as msno"
   ]
  },
  {
   "cell_type": "code",
   "execution_count": 2,
   "metadata": {},
   "outputs": [
    {
     "data": {
      "text/html": [
       "<div>\n",
       "<style scoped>\n",
       "    .dataframe tbody tr th:only-of-type {\n",
       "        vertical-align: middle;\n",
       "    }\n",
       "\n",
       "    .dataframe tbody tr th {\n",
       "        vertical-align: top;\n",
       "    }\n",
       "\n",
       "    .dataframe thead th {\n",
       "        text-align: right;\n",
       "    }\n",
       "</style>\n",
       "<table border=\"1\" class=\"dataframe\">\n",
       "  <thead>\n",
       "    <tr style=\"text-align: right;\">\n",
       "      <th></th>\n",
       "      <th>Número</th>\n",
       "      <th>Donacion</th>\n",
       "      <th>Organo/Tejido</th>\n",
       "      <th>Estatus</th>\n",
       "      <th>Mes/Año de Estatus</th>\n",
       "      <th>Sexo</th>\n",
       "      <th>Fecha Nac</th>\n",
       "      <th>Fecha Registro Comite</th>\n",
       "      <th>Establecimiento</th>\n",
       "      <th>Dependencia</th>\n",
       "      <th>Edo Residencia</th>\n",
       "      <th>Edo Origen</th>\n",
       "      <th>Diagnostico</th>\n",
       "      <th>Grupo Sanguineo</th>\n",
       "      <th>Rh</th>\n",
       "    </tr>\n",
       "  </thead>\n",
       "  <tbody>\n",
       "    <tr>\n",
       "      <th>0</th>\n",
       "      <td>1.0</td>\n",
       "      <td>Cadaver</td>\n",
       "      <td>Córnea</td>\n",
       "      <td>Baja</td>\n",
       "      <td>1/19</td>\n",
       "      <td>Femenino</td>\n",
       "      <td>26/06/1941</td>\n",
       "      <td>17/01/2019</td>\n",
       "      <td>HOSPITAL GENERAL DE ZONA No. 50</td>\n",
       "      <td>Instituto Mexicano del Seguro Social</td>\n",
       "      <td>San Luis Potosí</td>\n",
       "      <td>Aguascalientes</td>\n",
       "      <td>FALLA PRIMARIA DEL INJERTO</td>\n",
       "      <td>O</td>\n",
       "      <td>Positivo</td>\n",
       "    </tr>\n",
       "    <tr>\n",
       "      <th>1</th>\n",
       "      <td>2.0</td>\n",
       "      <td>Cadaver</td>\n",
       "      <td>Córnea</td>\n",
       "      <td>Baja</td>\n",
       "      <td>1/19</td>\n",
       "      <td>Femenino</td>\n",
       "      <td>04/09/1958</td>\n",
       "      <td>17/01/2019</td>\n",
       "      <td>HOSPITAL GENERAL DE ZONA No. 50</td>\n",
       "      <td>Instituto Mexicano del Seguro Social</td>\n",
       "      <td>San Luis Potosí</td>\n",
       "      <td>Tabasco</td>\n",
       "      <td>DISTROFIA DE FUCHS</td>\n",
       "      <td>O</td>\n",
       "      <td>Positivo</td>\n",
       "    </tr>\n",
       "    <tr>\n",
       "      <th>2</th>\n",
       "      <td>3.0</td>\n",
       "      <td>Cadaver</td>\n",
       "      <td>Córnea</td>\n",
       "      <td>En espera</td>\n",
       "      <td>1/19</td>\n",
       "      <td>Masculino</td>\n",
       "      <td>05/08/1990</td>\n",
       "      <td>17/01/2019</td>\n",
       "      <td>HOSPITAL GENERAL DE ZONA No. 50</td>\n",
       "      <td>Instituto Mexicano del Seguro Social</td>\n",
       "      <td>San Luis Potosí</td>\n",
       "      <td>San Luis Potosí</td>\n",
       "      <td>QUERATOPATIA BULOSA</td>\n",
       "      <td>O</td>\n",
       "      <td>Positivo</td>\n",
       "    </tr>\n",
       "    <tr>\n",
       "      <th>3</th>\n",
       "      <td>4.0</td>\n",
       "      <td>Cadaver</td>\n",
       "      <td>Córnea</td>\n",
       "      <td>Trasplante</td>\n",
       "      <td>1/19</td>\n",
       "      <td>Masculino</td>\n",
       "      <td>02/04/1938</td>\n",
       "      <td>07/01/2019</td>\n",
       "      <td>HOSPITAL GENERAL DE ZONA No. 50</td>\n",
       "      <td>Instituto Mexicano del Seguro Social</td>\n",
       "      <td>San Luis Potosí</td>\n",
       "      <td>Jalisco</td>\n",
       "      <td>ULCERA</td>\n",
       "      <td>O</td>\n",
       "      <td>Positivo</td>\n",
       "    </tr>\n",
       "    <tr>\n",
       "      <th>4</th>\n",
       "      <td>5.0</td>\n",
       "      <td>Cadaver</td>\n",
       "      <td>Córnea</td>\n",
       "      <td>Trasplante</td>\n",
       "      <td>2/19</td>\n",
       "      <td>Femenino</td>\n",
       "      <td>18/04/1934</td>\n",
       "      <td>17/01/2019</td>\n",
       "      <td>HOSPITAL GENERAL DE ZONA No. 50</td>\n",
       "      <td>Instituto Mexicano del Seguro Social</td>\n",
       "      <td>San Luis Potosí</td>\n",
       "      <td>San Luis Potosí</td>\n",
       "      <td>ULCERA</td>\n",
       "      <td>A</td>\n",
       "      <td>Positivo</td>\n",
       "    </tr>\n",
       "  </tbody>\n",
       "</table>\n",
       "</div>"
      ],
      "text/plain": [
       "   Número Donacion Organo/Tejido    Estatus  Mes/Año de Estatus       Sexo   \\\n",
       "0     1.0  Cadaver        Córnea        Baja               1/19   Femenino    \n",
       "1     2.0  Cadaver        Córnea        Baja               1/19   Femenino    \n",
       "2     3.0  Cadaver        Córnea   En espera               1/19  Masculino    \n",
       "3     4.0  Cadaver        Córnea  Trasplante               1/19  Masculino    \n",
       "4     5.0  Cadaver        Córnea  Trasplante               2/19   Femenino    \n",
       "\n",
       "   Fecha Nac  Fecha Registro Comite                  Establecimiento   \\\n",
       "0  26/06/1941            17/01/2019   HOSPITAL GENERAL DE ZONA No. 50   \n",
       "1  04/09/1958            17/01/2019   HOSPITAL GENERAL DE ZONA No. 50   \n",
       "2  05/08/1990            17/01/2019   HOSPITAL GENERAL DE ZONA No. 50   \n",
       "3  02/04/1938            07/01/2019   HOSPITAL GENERAL DE ZONA No. 50   \n",
       "4  18/04/1934            17/01/2019   HOSPITAL GENERAL DE ZONA No. 50   \n",
       "\n",
       "                            Dependencia  Edo Residencia       Edo Origen   \\\n",
       "0  Instituto Mexicano del Seguro Social  San Luis Potosí   Aguascalientes   \n",
       "1  Instituto Mexicano del Seguro Social  San Luis Potosí          Tabasco   \n",
       "2  Instituto Mexicano del Seguro Social  San Luis Potosí  San Luis Potosí   \n",
       "3  Instituto Mexicano del Seguro Social  San Luis Potosí          Jalisco   \n",
       "4  Instituto Mexicano del Seguro Social  San Luis Potosí  San Luis Potosí   \n",
       "\n",
       "                   Diagnostico Grupo Sanguineo         Rh   \n",
       "0  FALLA PRIMARIA DEL INJERTO                O   Positivo   \n",
       "1          DISTROFIA DE FUCHS                O   Positivo   \n",
       "2         QUERATOPATIA BULOSA                O   Positivo   \n",
       "3                      ULCERA                O   Positivo   \n",
       "4                      ULCERA                A   Positivo   "
      ]
     },
     "execution_count": 2,
     "metadata": {},
     "output_type": "execute_result"
    }
   ],
   "source": [
    "path = 'beneficiarios_ene_jun_2019.csv'\n",
    "doc = pd.read_csv(path, encoding = 'unicode_escape')\n",
    "doc.head()"
   ]
  },
  {
   "cell_type": "code",
   "execution_count": 3,
   "metadata": {
    "scrolled": true
   },
   "outputs": [
    {
     "data": {
      "text/plain": [
       "<matplotlib.axes._subplots.AxesSubplot at 0x7f67b44cb690>"
      ]
     },
     "execution_count": 3,
     "metadata": {},
     "output_type": "execute_result"
    },
    {
     "data": {
      "image/png": "[encoded data removed]",
      "text/plain": [
       "<Figure size 1800x720 with 2 Axes>"
      ]
     },
     "metadata": {
      "needs_background": "light"
     },
     "output_type": "display_data"
    }
   ],
   "source": [
    "msno.matrix(doc)"
   ]
  },
  {
   "cell_type": "code",
   "execution_count": 4,
   "metadata": {
    "scrolled": true
   },
   "outputs": [
    {
     "data": {
      "text/plain": [
       "<matplotlib.axes._subplots.AxesSubplot at 0x7f67b3efa4d0>"
      ]
     },
     "execution_count": 4,
     "metadata": {},
     "output_type": "execute_result"
    },
    {
     "data": {
      "image/png": "[encoded data removed]",
      "text/plain": [
       "<Figure size 1728x720 with 3 Axes>"
      ]
     },
     "metadata": {
      "needs_background": "light"
     },
     "output_type": "display_data"
    }
   ],
   "source": [
    "msno.bar(doc)"
   ]
  },
  {
   "cell_type": "code",
   "execution_count": 5,
   "metadata": {},
   "outputs": [
    {
     "data": {
      "text/plain": [
       "['Cadaver', 'Vivo', nan]"
      ]
     },
     "execution_count": 5,
     "metadata": {},
     "output_type": "execute_result"
    }
   ],
   "source": [
    "list(doc[\"Donacion\"].unique())"
   ]
  },
  {
   "cell_type": "code",
   "execution_count": 6,
   "metadata": {},
   "outputs": [
    {
     "data": {
      "text/plain": [
       "['Córnea', 'Riñón', nan]"
      ]
     },
     "execution_count": 6,
     "metadata": {},
     "output_type": "execute_result"
    }
   ],
   "source": [
    "list(doc['Organo/Tejido'].unique())"
   ]
  },
  {
   "cell_type": "code",
   "execution_count": 7,
   "metadata": {
    "scrolled": true
   },
   "outputs": [
    {
     "data": {
      "text/plain": [
       "['Número',\n",
       " 'Donacion',\n",
       " 'Organo/Tejido',\n",
       " 'Estatus\\xa0',\n",
       " 'Mes/Año de Estatus',\n",
       " 'Sexo\\xa0',\n",
       " 'Fecha Nac\\xa0',\n",
       " 'Fecha Registro Comite\\xa0',\n",
       " 'Establecimiento\\xa0',\n",
       " 'Dependencia',\n",
       " 'Edo Residencia\\xa0',\n",
       " 'Edo Origen\\xa0',\n",
       " 'Diagnostico',\n",
       " 'Grupo Sanguineo\\xa0',\n",
       " 'Rh\\xa0']"
      ]
     },
     "execution_count": 7,
     "metadata": {},
     "output_type": "execute_result"
    }
   ],
   "source": [
    "doc.columns.values.tolist()"
   ]
  },
  {
   "cell_type": "code",
   "execution_count": 8,
   "metadata": {},
   "outputs": [
    {
     "data": {
      "text/plain": [
       "array(['Baja', 'En espera', 'Trasplante', nan], dtype=object)"
      ]
     },
     "execution_count": 8,
     "metadata": {},
     "output_type": "execute_result"
    }
   ],
   "source": [
    "(doc['Estatus\\xa0'].unique())"
   ]
  },
  {
   "cell_type": "code",
   "execution_count": 9,
   "metadata": {},
   "outputs": [
    {
     "data": {
      "text/plain": [
       "array(['1/19', '2/19', '5/19', '3/19', '4/19', '6/19', '7/19', nan],\n",
       "      dtype=object)"
      ]
     },
     "execution_count": 9,
     "metadata": {},
     "output_type": "execute_result"
    }
   ],
   "source": [
    "(doc['Mes/Año de Estatus'].unique())"
   ]
  },
  {
   "cell_type": "code",
   "execution_count": 10,
   "metadata": {},
   "outputs": [
    {
     "data": {
      "text/plain": [
       "array(['Femenino\\xa0', 'Masculino\\xa0', nan], dtype=object)"
      ]
     },
     "execution_count": 10,
     "metadata": {},
     "output_type": "execute_result"
    }
   ],
   "source": [
    "doc['Sexo\\xa0'].unique()"
   ]
  },
  {
   "cell_type": "code",
   "execution_count": 11,
   "metadata": {},
   "outputs": [
    {
     "data": {
      "text/plain": [
       "array(['17/01/2019\\xa0', '07/01/2019\\xa0', '25/01/2019\\xa0',\n",
       "       '29/01/2019\\xa0', '26/01/2019\\xa0', '21/01/2019\\xa0',\n",
       "       '30/01/2019\\xa0', '15/02/2019\\xa0', '12/02/2019\\xa0',\n",
       "       '28/02/2019\\xa0', '19/02/2019\\xa0', '22/02/2019\\xa0',\n",
       "       '23/02/2019\\xa0', '10/02/2017\\xa0', '01/02/2019\\xa0',\n",
       "       '11/02/2019\\xa0', '07/02/2019\\xa0', '13/02/2019\\xa0',\n",
       "       '08/03/2019\\xa0', '21/03/2019\\xa0', '22/03/2019\\xa0',\n",
       "       '29/03/2019\\xa0', '13/03/2019\\xa0', '06/03/2019\\xa0',\n",
       "       '11/03/2019\\xa0', '15/03/2019\\xa0', '05/04/2019\\xa0',\n",
       "       '24/04/2019\\xa0', '30/04/2019\\xa0', '12/04/2019\\xa0',\n",
       "       '28/04/2017\\xa0', '29/04/2019\\xa0', '10/04/2019\\xa0',\n",
       "       '26/04/2019\\xa0', '03/05/2019\\xa0', '07/05/2019\\xa0',\n",
       "       '30/05/2016\\xa0', '13/05/2019\\xa0', '01/05/2019\\xa0',\n",
       "       '14/05/2019\\xa0', '28/05/2018\\xa0', '06/05/2019\\xa0',\n",
       "       '08/05/2019\\xa0', '15/05/2019\\xa0', '17/05/2019\\xa0',\n",
       "       '22/05/2019\\xa0', '27/05/2019\\xa0', '30/05/2019\\xa0',\n",
       "       '02/05/2019\\xa0', '07/06/2019\\xa0', '28/06/2019\\xa0',\n",
       "       '26/06/2018\\xa0', '03/06/2019\\xa0', '03/06/2016\\xa0',\n",
       "       '06/06/2016\\xa0', '14/06/2019\\xa0', '24/06/2019\\xa0',\n",
       "       '18/06/2019\\xa0', '07/07/2015\\xa0', '14/07/2016\\xa0',\n",
       "       '15/07/2016\\xa0', '17/09/2018\\xa0', '28/09/2018\\xa0',\n",
       "       '05/10/2018\\xa0', '26/10/2018\\xa0', '03/10/2017\\xa0',\n",
       "       '15/10/2018\\xa0', '08/10/2018\\xa0', '01/11/2018\\xa0',\n",
       "       '12/11/2018\\xa0', '16/11/2018\\xa0', '30/11/2018\\xa0',\n",
       "       '05/11/2018\\xa0', '27/11/2018\\xa0', '12/12/2017\\xa0',\n",
       "       '14/12/2018\\xa0', '19/12/2018\\xa0', '21/12/2018\\xa0',\n",
       "       '20/12/2017\\xa0', '06/12/2018\\xa0', nan], dtype=object)"
      ]
     },
     "execution_count": 11,
     "metadata": {},
     "output_type": "execute_result"
    }
   ],
   "source": [
    "doc['Fecha Registro Comite\\xa0'].unique()"
   ]
  },
  {
   "cell_type": "code",
   "execution_count": 12,
   "metadata": {},
   "outputs": [
    {
     "data": {
      "text/plain": [
       "array(['17/01/2019\\xa0', '07/01/2019\\xa0', '25/01/2019\\xa0',\n",
       "       '29/01/2019\\xa0', '26/01/2019\\xa0', '21/01/2019\\xa0',\n",
       "       '30/01/2019\\xa0', '15/02/2019\\xa0', '12/02/2019\\xa0',\n",
       "       '28/02/2019\\xa0', '19/02/2019\\xa0', '22/02/2019\\xa0',\n",
       "       '23/02/2019\\xa0', '10/02/2017\\xa0', '01/02/2019\\xa0',\n",
       "       '11/02/2019\\xa0', '07/02/2019\\xa0', '13/02/2019\\xa0',\n",
       "       '08/03/2019\\xa0', '21/03/2019\\xa0', '22/03/2019\\xa0',\n",
       "       '29/03/2019\\xa0', '13/03/2019\\xa0', '06/03/2019\\xa0',\n",
       "       '11/03/2019\\xa0', '15/03/2019\\xa0', '05/04/2019\\xa0',\n",
       "       '24/04/2019\\xa0', '30/04/2019\\xa0', '12/04/2019\\xa0',\n",
       "       '28/04/2017\\xa0', '29/04/2019\\xa0', '10/04/2019\\xa0',\n",
       "       '26/04/2019\\xa0', '03/05/2019\\xa0', '07/05/2019\\xa0',\n",
       "       '30/05/2016\\xa0', '13/05/2019\\xa0', '01/05/2019\\xa0',\n",
       "       '14/05/2019\\xa0', '28/05/2018\\xa0', '06/05/2019\\xa0',\n",
       "       '08/05/2019\\xa0', '15/05/2019\\xa0', '17/05/2019\\xa0',\n",
       "       '22/05/2019\\xa0', '27/05/2019\\xa0', '30/05/2019\\xa0',\n",
       "       '02/05/2019\\xa0', '07/06/2019\\xa0', '28/06/2019\\xa0',\n",
       "       '26/06/2018\\xa0', '03/06/2019\\xa0', '03/06/2016\\xa0',\n",
       "       '06/06/2016\\xa0', '14/06/2019\\xa0', '24/06/2019\\xa0',\n",
       "       '18/06/2019\\xa0', '07/07/2015\\xa0', '14/07/2016\\xa0',\n",
       "       '15/07/2016\\xa0', '17/09/2018\\xa0', '28/09/2018\\xa0',\n",
       "       '05/10/2018\\xa0', '26/10/2018\\xa0', '03/10/2017\\xa0',\n",
       "       '15/10/2018\\xa0', '08/10/2018\\xa0', '01/11/2018\\xa0',\n",
       "       '12/11/2018\\xa0', '16/11/2018\\xa0', '30/11/2018\\xa0',\n",
       "       '05/11/2018\\xa0', '27/11/2018\\xa0', '12/12/2017\\xa0',\n",
       "       '14/12/2018\\xa0', '19/12/2018\\xa0', '21/12/2018\\xa0',\n",
       "       '20/12/2017\\xa0', '06/12/2018\\xa0', nan], dtype=object)"
      ]
     },
     "execution_count": 12,
     "metadata": {},
     "output_type": "execute_result"
    }
   ],
   "source": [
    "doc['Fecha Registro Comite\\xa0'].unique()"
   ]
  },
  {
   "cell_type": "code",
   "execution_count": 13,
   "metadata": {},
   "outputs": [
    {
     "data": {
      "text/plain": [
       "array(['HOSPITAL GENERAL DE ZONA No. 50',\n",
       "       'HOSPITAL LOMAS DE SAN LUIS INTERNACIONAL',\n",
       "       'HOSPITAL CENTRAL \"DR. IGNACIO MORONES PRIETO\"',\n",
       "       'OFTALMOLOGIA POTOSINA AVANZADA S.A. DE C.V',\n",
       "       'STAR MEDICA, S. A. DE C. V. (HOSPITAL SAN LUIS POTOSI)',\n",
       "       'LASER SAN LUIS SA DE CV',\n",
       "       'HOSPITAL LOMAS DE SAN LUIS INTERNACIONAL\\xa0', nan], dtype=object)"
      ]
     },
     "execution_count": 13,
     "metadata": {},
     "output_type": "execute_result"
    }
   ],
   "source": [
    "doc['Establecimiento\\xa0'].unique()"
   ]
  },
  {
   "cell_type": "code",
   "execution_count": 14,
   "metadata": {},
   "outputs": [
    {
     "data": {
      "text/plain": [
       "array(['Instituto Mexicano del Seguro Social', 'Privado',\n",
       "       'Servicios de Salud del Estado', nan], dtype=object)"
      ]
     },
     "execution_count": 14,
     "metadata": {},
     "output_type": "execute_result"
    }
   ],
   "source": [
    "doc['Dependencia'].unique()"
   ]
  },
  {
   "cell_type": "code",
   "execution_count": 15,
   "metadata": {},
   "outputs": [
    {
     "data": {
      "text/plain": [
       "array(['San Luis Potosí', 'Quintana Roo', 'Zacatecas', 'Guanajuato',\n",
       "       'Jalisco', 'Guerrero', 'Hidalgo', 'Estado de México',\n",
       "       'Aguascalientes', 'Querétaro', 'Yucatán', 'Ciudad de México', nan],\n",
       "      dtype=object)"
      ]
     },
     "execution_count": 15,
     "metadata": {},
     "output_type": "execute_result"
    }
   ],
   "source": [
    "items = doc['Edo Residencia\\xa0'].unique()\n",
    "items"
   ]
  },
  {
   "cell_type": "code",
   "execution_count": 16,
   "metadata": {},
   "outputs": [
    {
     "data": {
      "text/plain": [
       "array(['Aguascalientes', 'Tabasco', 'San Luis Potosí', 'Jalisco',\n",
       "       'Ciudad de México', 'Zacatecas', 'Guanajuato', 'Hidalgo',\n",
       "       'Estado de México', 'Querétaro', 'Yucatán', 'ZAC\\xa0',\n",
       "       'Nuevo León', nan], dtype=object)"
      ]
     },
     "execution_count": 16,
     "metadata": {},
     "output_type": "execute_result"
    }
   ],
   "source": [
    "doc['Edo Origen\\xa0'].unique()"
   ]
  },
  {
   "cell_type": "code",
   "execution_count": 17,
   "metadata": {},
   "outputs": [
    {
     "data": {
      "text/plain": [
       "array(['FALLA PRIMARIA DEL INJERTO\\xa0', 'DISTROFIA DE FUCHS\\xa0',\n",
       "       'QUERATOPATIA BULOSA\\xa0', 'ULCERA\\xa0', 'QUERATOCONO\\xa0',\n",
       "       'LEUCOMA\\xa0', 'DISTROFIA ENDOTELIAL CONGENITA\\xa0',\n",
       "       'QUERATITIS HERPETICA\\xa0', 'GLOMERULOPATIA DESCONOCIDA\\xa0',\n",
       "       'ENFERMEDAD POLIQUISTICA\\xa0', 'GLOMERULOPATIA SECUNDARIA\\xa0',\n",
       "       'GLOMERULOPATIA PRIMARIA\\xa0', 'OTRO\\xa0', 'QUEMADURA\\xa0',\n",
       "       'DISTROFIA HEREDITARIA\\xa0', nan], dtype=object)"
      ]
     },
     "execution_count": 17,
     "metadata": {},
     "output_type": "execute_result"
    }
   ],
   "source": [
    "doc['Diagnostico'].unique()"
   ]
  },
  {
   "cell_type": "code",
   "execution_count": 18,
   "metadata": {},
   "outputs": [
    {
     "data": {
      "text/plain": [
       "array(['O\\xa0', 'A\\xa0', 'NO APLICA\\xa0', 'B\\xa0', 'AB\\xa0', nan],\n",
       "      dtype=object)"
      ]
     },
     "execution_count": 18,
     "metadata": {},
     "output_type": "execute_result"
    }
   ],
   "source": [
    "doc['Grupo Sanguineo\\xa0'].unique()"
   ]
  },
  {
   "cell_type": "code",
   "execution_count": 19,
   "metadata": {},
   "outputs": [
    {
     "data": {
      "text/plain": [
       "array(['O\\xa0', 'A\\xa0', 'NO APLICA\\xa0', 'B\\xa0', 'AB\\xa0', nan],\n",
       "      dtype=object)"
      ]
     },
     "execution_count": 19,
     "metadata": {},
     "output_type": "execute_result"
    }
   ],
   "source": [
    "doc['Grupo Sanguineo\\xa0'].unique()"
   ]
  },
  {
   "cell_type": "code",
   "execution_count": 21,
   "metadata": {},
   "outputs": [],
   "source": [
    "encoded_vals = []\n",
    "\n",
    "for index, row in doc.iterrows():\n",
    "    labels = {}\n",
    "    uncommons = list(set(items) - set(row))\n",
    "    commons = list(set(items).intersection(row))\n",
    "    for uc in uncommons:\n",
    "        labels[uc] = 0\n",
    "    for com in commons:\n",
    "        labels[com] = 1\n",
    "    encoded_vals.append(labels)"
   ]
  },
  {
   "cell_type": "code",
   "execution_count": 22,
   "metadata": {},
   "outputs": [
    {
     "data": {
      "text/html": [
       "<div>\n",
       "<style scoped>\n",
       "    .dataframe tbody tr th:only-of-type {\n",
       "        vertical-align: middle;\n",
       "    }\n",
       "\n",
       "    .dataframe tbody tr th {\n",
       "        vertical-align: top;\n",
       "    }\n",
       "\n",
       "    .dataframe thead th {\n",
       "        text-align: right;\n",
       "    }\n",
       "</style>\n",
       "<table border=\"1\" class=\"dataframe\">\n",
       "  <thead>\n",
       "    <tr style=\"text-align: right;\">\n",
       "      <th></th>\n",
       "      <th>Quintana Roo</th>\n",
       "      <th>NaN</th>\n",
       "      <th>Jalisco</th>\n",
       "      <th>Zacatecas</th>\n",
       "      <th>Guerrero</th>\n",
       "      <th>Ciudad de México</th>\n",
       "      <th>Yucatán</th>\n",
       "      <th>Hidalgo</th>\n",
       "      <th>Estado de México</th>\n",
       "      <th>Guanajuato</th>\n",
       "      <th>Querétaro</th>\n",
       "      <th>San Luis Potosí</th>\n",
       "      <th>Aguascalientes</th>\n",
       "    </tr>\n",
       "  </thead>\n",
       "  <tbody>\n",
       "    <tr>\n",
       "      <th>0</th>\n",
       "      <td>0</td>\n",
       "      <td>0</td>\n",
       "      <td>0</td>\n",
       "      <td>0</td>\n",
       "      <td>0</td>\n",
       "      <td>0</td>\n",
       "      <td>0</td>\n",
       "      <td>0</td>\n",
       "      <td>0</td>\n",
       "      <td>0</td>\n",
       "      <td>0</td>\n",
       "      <td>1</td>\n",
       "      <td>1</td>\n",
       "    </tr>\n",
       "    <tr>\n",
       "      <th>1</th>\n",
       "      <td>0</td>\n",
       "      <td>0</td>\n",
       "      <td>0</td>\n",
       "      <td>0</td>\n",
       "      <td>0</td>\n",
       "      <td>0</td>\n",
       "      <td>0</td>\n",
       "      <td>0</td>\n",
       "      <td>0</td>\n",
       "      <td>0</td>\n",
       "      <td>0</td>\n",
       "      <td>1</td>\n",
       "      <td>0</td>\n",
       "    </tr>\n",
       "    <tr>\n",
       "      <th>2</th>\n",
       "      <td>0</td>\n",
       "      <td>0</td>\n",
       "      <td>0</td>\n",
       "      <td>0</td>\n",
       "      <td>0</td>\n",
       "      <td>0</td>\n",
       "      <td>0</td>\n",
       "      <td>0</td>\n",
       "      <td>0</td>\n",
       "      <td>0</td>\n",
       "      <td>0</td>\n",
       "      <td>1</td>\n",
       "      <td>0</td>\n",
       "    </tr>\n",
       "    <tr>\n",
       "      <th>3</th>\n",
       "      <td>0</td>\n",
       "      <td>0</td>\n",
       "      <td>1</td>\n",
       "      <td>0</td>\n",
       "      <td>0</td>\n",
       "      <td>0</td>\n",
       "      <td>0</td>\n",
       "      <td>0</td>\n",
       "      <td>0</td>\n",
       "      <td>0</td>\n",
       "      <td>0</td>\n",
       "      <td>1</td>\n",
       "      <td>0</td>\n",
       "    </tr>\n",
       "    <tr>\n",
       "      <th>4</th>\n",
       "      <td>0</td>\n",
       "      <td>0</td>\n",
       "      <td>0</td>\n",
       "      <td>0</td>\n",
       "      <td>0</td>\n",
       "      <td>0</td>\n",
       "      <td>0</td>\n",
       "      <td>0</td>\n",
       "      <td>0</td>\n",
       "      <td>0</td>\n",
       "      <td>0</td>\n",
       "      <td>1</td>\n",
       "      <td>0</td>\n",
       "    </tr>\n",
       "  </tbody>\n",
       "</table>\n",
       "</div>"
      ],
      "text/plain": [
       "   Quintana Roo  NaN  Jalisco  Zacatecas  Guerrero  Ciudad de México  Yucatán  \\\n",
       "0             0    0        0          0         0                 0        0   \n",
       "1             0    0        0          0         0                 0        0   \n",
       "2             0    0        0          0         0                 0        0   \n",
       "3             0    0        1          0         0                 0        0   \n",
       "4             0    0        0          0         0                 0        0   \n",
       "\n",
       "   Hidalgo  Estado de México  Guanajuato  Querétaro  San Luis Potosí  \\\n",
       "0        0                 0           0          0                1   \n",
       "1        0                 0           0          0                1   \n",
       "2        0                 0           0          0                1   \n",
       "3        0                 0           0          0                1   \n",
       "4        0                 0           0          0                1   \n",
       "\n",
       "   Aguascalientes  \n",
       "0               1  \n",
       "1               0  \n",
       "2               0  \n",
       "3               0  \n",
       "4               0  "
      ]
     },
     "execution_count": 22,
     "metadata": {},
     "output_type": "execute_result"
    }
   ],
   "source": [
    "ohe_df = pd.DataFrame(encoded_vals)\n",
    "ohe_df.head()"
   ]
  },
  {
   "cell_type": "code",
   "execution_count": 23,
   "metadata": {},
   "outputs": [
    {
     "name": "stdout",
     "output_type": "stream",
     "text": [
      "\n"
     ]
    },
    {
     "data": {
      "text/html": [
       "<div>\n",
       "<style scoped>\n",
       "    .dataframe tbody tr th:only-of-type {\n",
       "        vertical-align: middle;\n",
       "    }\n",
       "\n",
       "    .dataframe tbody tr th {\n",
       "        vertical-align: top;\n",
       "    }\n",
       "\n",
       "    .dataframe thead th {\n",
       "        text-align: right;\n",
       "    }\n",
       "</style>\n",
       "<table border=\"1\" class=\"dataframe\">\n",
       "  <thead>\n",
       "    <tr style=\"text-align: right;\">\n",
       "      <th></th>\n",
       "      <th>support</th>\n",
       "      <th>itemsets</th>\n",
       "    </tr>\n",
       "  </thead>\n",
       "  <tbody>\n",
       "    <tr>\n",
       "      <th>0</th>\n",
       "      <td>0.828125</td>\n",
       "      <td>(San Luis Potosí)</td>\n",
       "    </tr>\n",
       "  </tbody>\n",
       "</table>\n",
       "</div>"
      ],
      "text/plain": [
       "    support           itemsets\n",
       "0  0.828125  (San Luis Potosí)"
      ]
     },
     "execution_count": 23,
     "metadata": {},
     "output_type": "execute_result"
    }
   ],
   "source": [
    "freq_items = apriori(ohe_df, min_support=0.2, use_colnames=True, verbose=1)\n",
    "freq_items.head()"
   ]
  },
  {
   "cell_type": "code",
   "execution_count": 24,
   "metadata": {},
   "outputs": [
    {
     "data": {
      "text/plain": [
       "array([frozenset({'San Luis Potosí'})], dtype=object)"
      ]
     },
     "execution_count": 24,
     "metadata": {},
     "output_type": "execute_result"
    }
   ],
   "source": [
    "freq_items.itemsets.unique()"
   ]
  },
  {
   "cell_type": "code",
   "execution_count": 25,
   "metadata": {},
   "outputs": [
    {
     "data": {
      "text/html": [
       "<div>\n",
       "<style scoped>\n",
       "    .dataframe tbody tr th:only-of-type {\n",
       "        vertical-align: middle;\n",
       "    }\n",
       "\n",
       "    .dataframe tbody tr th {\n",
       "        vertical-align: top;\n",
       "    }\n",
       "\n",
       "    .dataframe thead th {\n",
       "        text-align: right;\n",
       "    }\n",
       "</style>\n",
       "<table border=\"1\" class=\"dataframe\">\n",
       "  <thead>\n",
       "    <tr style=\"text-align: right;\">\n",
       "      <th></th>\n",
       "      <th>antecedents</th>\n",
       "      <th>consequents</th>\n",
       "      <th>antecedent support</th>\n",
       "      <th>consequent support</th>\n",
       "      <th>support</th>\n",
       "      <th>confidence</th>\n",
       "      <th>lift</th>\n",
       "      <th>leverage</th>\n",
       "      <th>conviction</th>\n",
       "    </tr>\n",
       "  </thead>\n",
       "  <tbody>\n",
       "  </tbody>\n",
       "</table>\n",
       "</div>"
      ],
      "text/plain": [
       "Empty DataFrame\n",
       "Columns: [antecedents, consequents, antecedent support, consequent support, support, confidence, lift, leverage, conviction]\n",
       "Index: []"
      ]
     },
     "execution_count": 25,
     "metadata": {},
     "output_type": "execute_result"
    }
   ],
   "source": [
    "rules = association_rules(freq_items, min_threshold=0.6)\n",
    "rules"
   ]
  },
  {
   "cell_type": "code",
   "execution_count": null,
   "metadata": {},
   "outputs": [],
   "source": []
  }
 ],
 "metadata": {
  "kernelspec": {
   "display_name": "Python 3",
   "language": "python",
   "name": "python3"
  },
  "language_info": {
   "codemirror_mode": {
    "name": "ipython",
    "version": 3
   },
   "file_extension": ".py",
   "mimetype": "text/x-python",
   "name": "python",
   "nbconvert_exporter": "python",
   "pygments_lexer": "ipython3",
   "version": "3.7.6"
  }
 },
 "nbformat": 4,
 "nbformat_minor": 4
}
